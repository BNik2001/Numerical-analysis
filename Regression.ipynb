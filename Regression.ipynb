{
  "nbformat": 4,
  "nbformat_minor": 0,
  "metadata": {
    "colab": {
      "name": "Regression.ipynb",
      "provenance": [],
      "collapsed_sections": [],
      "include_colab_link": true
    },
    "kernelspec": {
      "name": "python3",
      "display_name": "Python 3"
    }
  },
  "cells": [
    {
      "cell_type": "markdown",
      "metadata": {
        "id": "view-in-github",
        "colab_type": "text"
      },
      "source": [
        "<a href=\"https://colab.research.google.com/github/BNik2001/foo/blob/master/Regression.ipynb\" target=\"_parent\"><img src=\"https://colab.research.google.com/assets/colab-badge.svg\" alt=\"Open In Colab\"/></a>"
      ]
    },
    {
      "cell_type": "markdown",
      "metadata": {
        "id": "M1Vxkn-QqxFS"
      },
      "source": [
        "https://towardsdatascience.com/google-drive-google-colab-github-dont-just-read-do-it-5554d5824228"
      ]
    },
    {
      "cell_type": "markdown",
      "metadata": {
        "id": "GQ-yvBzfSP7B"
      },
      "source": [
        "https://cyberguru.tech/программирование/машинное-обучение/линейная-регрессия-в-python -- супер пупер статья про все это, объясняется супер "
      ]
    },
    {
      "cell_type": "code",
      "metadata": {
        "colab": {
          "base_uri": "https://localhost:8080/"
        },
        "id": "2DtQEglfXpFk",
        "outputId": "7dd622fe-ae54-4f89-eb2b-e8f5bc322256"
      },
      "source": [
        "!git clone https://github.com/BNik2001/foo.git"
      ],
      "execution_count": 2,
      "outputs": [
        {
          "output_type": "stream",
          "text": [
            "fatal: destination path 'foo' already exists and is not an empty directory.\n"
          ],
          "name": "stdout"
        }
      ]
    },
    {
      "cell_type": "code",
      "metadata": {
        "id": "5O0TwV6Ps8nh",
        "colab": {
          "base_uri": "https://localhost:8080/"
        },
        "outputId": "c343bda3-72be-460f-faac-7198f44ec934"
      },
      "source": [
        "%cd foo\n",
        "!ls"
      ],
      "execution_count": 3,
      "outputs": [
        {
          "output_type": "stream",
          "text": [
            "/content/foo\n",
            "'car data.csv'\t\t    insurance.csv   README.md\t       Regression.ipynb\n",
            " employee_survey_data.csv   prices.csv\t   'Real estate.csv'\n"
          ],
          "name": "stdout"
        }
      ]
    },
    {
      "cell_type": "code",
      "metadata": {
        "id": "ijizfmJXBalA"
      },
      "source": [
        "from pandas import read_csv, DataFrame\n",
        "\n"
      ],
      "execution_count": 66,
      "outputs": []
    },
    {
      "cell_type": "code",
      "metadata": {
        "colab": {
          "base_uri": "https://localhost:8080/",
          "height": 204
        },
        "id": "zWPH3FK57Jqy",
        "outputId": "ad50ebb7-7ac6-458d-9cf9-4e16b9ae2534"
      },
      "source": [
        "import pandas as pd\n",
        "import numpy as np\n",
        "\n",
        "dataset = pd.read_csv(\"car data.csv\")\n",
        "dataset_1 =pd.read_csv(\"Real estate.csv\")\n",
        "dataset.head()"
      ],
      "execution_count": 127,
      "outputs": [
        {
          "output_type": "execute_result",
          "data": {
            "text/html": [
              "<div>\n",
              "<style scoped>\n",
              "    .dataframe tbody tr th:only-of-type {\n",
              "        vertical-align: middle;\n",
              "    }\n",
              "\n",
              "    .dataframe tbody tr th {\n",
              "        vertical-align: top;\n",
              "    }\n",
              "\n",
              "    .dataframe thead th {\n",
              "        text-align: right;\n",
              "    }\n",
              "</style>\n",
              "<table border=\"1\" class=\"dataframe\">\n",
              "  <thead>\n",
              "    <tr style=\"text-align: right;\">\n",
              "      <th></th>\n",
              "      <th>Car_Name</th>\n",
              "      <th>Year</th>\n",
              "      <th>Selling_Price</th>\n",
              "      <th>Present_Price</th>\n",
              "      <th>Kms_Driven</th>\n",
              "      <th>Fuel_Type</th>\n",
              "      <th>Seller_Type</th>\n",
              "      <th>Transmission</th>\n",
              "      <th>Owner</th>\n",
              "    </tr>\n",
              "  </thead>\n",
              "  <tbody>\n",
              "    <tr>\n",
              "      <th>0</th>\n",
              "      <td>ritz</td>\n",
              "      <td>2014</td>\n",
              "      <td>3.35</td>\n",
              "      <td>5.59</td>\n",
              "      <td>27000</td>\n",
              "      <td>Petrol</td>\n",
              "      <td>Dealer</td>\n",
              "      <td>Manual</td>\n",
              "      <td>0</td>\n",
              "    </tr>\n",
              "    <tr>\n",
              "      <th>1</th>\n",
              "      <td>sx4</td>\n",
              "      <td>2013</td>\n",
              "      <td>4.75</td>\n",
              "      <td>9.54</td>\n",
              "      <td>43000</td>\n",
              "      <td>Diesel</td>\n",
              "      <td>Dealer</td>\n",
              "      <td>Manual</td>\n",
              "      <td>0</td>\n",
              "    </tr>\n",
              "    <tr>\n",
              "      <th>2</th>\n",
              "      <td>ciaz</td>\n",
              "      <td>2017</td>\n",
              "      <td>7.25</td>\n",
              "      <td>9.85</td>\n",
              "      <td>6900</td>\n",
              "      <td>Petrol</td>\n",
              "      <td>Dealer</td>\n",
              "      <td>Manual</td>\n",
              "      <td>0</td>\n",
              "    </tr>\n",
              "    <tr>\n",
              "      <th>3</th>\n",
              "      <td>wagon r</td>\n",
              "      <td>2011</td>\n",
              "      <td>2.85</td>\n",
              "      <td>4.15</td>\n",
              "      <td>5200</td>\n",
              "      <td>Petrol</td>\n",
              "      <td>Dealer</td>\n",
              "      <td>Manual</td>\n",
              "      <td>0</td>\n",
              "    </tr>\n",
              "    <tr>\n",
              "      <th>4</th>\n",
              "      <td>swift</td>\n",
              "      <td>2014</td>\n",
              "      <td>4.60</td>\n",
              "      <td>6.87</td>\n",
              "      <td>42450</td>\n",
              "      <td>Diesel</td>\n",
              "      <td>Dealer</td>\n",
              "      <td>Manual</td>\n",
              "      <td>0</td>\n",
              "    </tr>\n",
              "  </tbody>\n",
              "</table>\n",
              "</div>"
            ],
            "text/plain": [
              "  Car_Name  Year  Selling_Price  ...  Seller_Type  Transmission Owner\n",
              "0     ritz  2014           3.35  ...       Dealer        Manual     0\n",
              "1      sx4  2013           4.75  ...       Dealer        Manual     0\n",
              "2     ciaz  2017           7.25  ...       Dealer        Manual     0\n",
              "3  wagon r  2011           2.85  ...       Dealer        Manual     0\n",
              "4    swift  2014           4.60  ...       Dealer        Manual     0\n",
              "\n",
              "[5 rows x 9 columns]"
            ]
          },
          "metadata": {
            "tags": []
          },
          "execution_count": 127
        }
      ]
    },
    {
      "cell_type": "markdown",
      "metadata": {
        "id": "PKt33STOEgYO"
      },
      "source": [
        "# Взял для примера у себя "
      ]
    },
    {
      "cell_type": "code",
      "metadata": {
        "colab": {
          "base_uri": "https://localhost:8080/",
          "height": 0
        },
        "id": "gIMnlkSLEOTS",
        "outputId": "ef263bd0-a2dc-49b8-8743-e14d179afa94"
      },
      "source": [
        "dataset_1.corr()"
      ],
      "execution_count": 75,
      "outputs": [
        {
          "output_type": "execute_result",
          "data": {
            "text/html": [
              "<div>\n",
              "<style scoped>\n",
              "    .dataframe tbody tr th:only-of-type {\n",
              "        vertical-align: middle;\n",
              "    }\n",
              "\n",
              "    .dataframe tbody tr th {\n",
              "        vertical-align: top;\n",
              "    }\n",
              "\n",
              "    .dataframe thead th {\n",
              "        text-align: right;\n",
              "    }\n",
              "</style>\n",
              "<table border=\"1\" class=\"dataframe\">\n",
              "  <thead>\n",
              "    <tr style=\"text-align: right;\">\n",
              "      <th></th>\n",
              "      <th>No</th>\n",
              "      <th>X1 transaction date</th>\n",
              "      <th>X2 house age</th>\n",
              "      <th>X3 distance to the nearest MRT station</th>\n",
              "      <th>X4 number of convenience stores</th>\n",
              "      <th>X5 latitude</th>\n",
              "      <th>X6 longitude</th>\n",
              "      <th>Y house price of unit area</th>\n",
              "    </tr>\n",
              "  </thead>\n",
              "  <tbody>\n",
              "    <tr>\n",
              "      <th>No</th>\n",
              "      <td>1.000000</td>\n",
              "      <td>-0.048658</td>\n",
              "      <td>-0.032808</td>\n",
              "      <td>-0.013573</td>\n",
              "      <td>-0.012699</td>\n",
              "      <td>-0.010110</td>\n",
              "      <td>-0.011059</td>\n",
              "      <td>-0.028587</td>\n",
              "    </tr>\n",
              "    <tr>\n",
              "      <th>X1 transaction date</th>\n",
              "      <td>-0.048658</td>\n",
              "      <td>1.000000</td>\n",
              "      <td>0.017549</td>\n",
              "      <td>0.060880</td>\n",
              "      <td>0.009635</td>\n",
              "      <td>0.035058</td>\n",
              "      <td>-0.041082</td>\n",
              "      <td>0.087491</td>\n",
              "    </tr>\n",
              "    <tr>\n",
              "      <th>X2 house age</th>\n",
              "      <td>-0.032808</td>\n",
              "      <td>0.017549</td>\n",
              "      <td>1.000000</td>\n",
              "      <td>0.025622</td>\n",
              "      <td>0.049593</td>\n",
              "      <td>0.054420</td>\n",
              "      <td>-0.048520</td>\n",
              "      <td>-0.210567</td>\n",
              "    </tr>\n",
              "    <tr>\n",
              "      <th>X3 distance to the nearest MRT station</th>\n",
              "      <td>-0.013573</td>\n",
              "      <td>0.060880</td>\n",
              "      <td>0.025622</td>\n",
              "      <td>1.000000</td>\n",
              "      <td>-0.602519</td>\n",
              "      <td>-0.591067</td>\n",
              "      <td>-0.806317</td>\n",
              "      <td>-0.673613</td>\n",
              "    </tr>\n",
              "    <tr>\n",
              "      <th>X4 number of convenience stores</th>\n",
              "      <td>-0.012699</td>\n",
              "      <td>0.009635</td>\n",
              "      <td>0.049593</td>\n",
              "      <td>-0.602519</td>\n",
              "      <td>1.000000</td>\n",
              "      <td>0.444143</td>\n",
              "      <td>0.449099</td>\n",
              "      <td>0.571005</td>\n",
              "    </tr>\n",
              "    <tr>\n",
              "      <th>X5 latitude</th>\n",
              "      <td>-0.010110</td>\n",
              "      <td>0.035058</td>\n",
              "      <td>0.054420</td>\n",
              "      <td>-0.591067</td>\n",
              "      <td>0.444143</td>\n",
              "      <td>1.000000</td>\n",
              "      <td>0.412924</td>\n",
              "      <td>0.546307</td>\n",
              "    </tr>\n",
              "    <tr>\n",
              "      <th>X6 longitude</th>\n",
              "      <td>-0.011059</td>\n",
              "      <td>-0.041082</td>\n",
              "      <td>-0.048520</td>\n",
              "      <td>-0.806317</td>\n",
              "      <td>0.449099</td>\n",
              "      <td>0.412924</td>\n",
              "      <td>1.000000</td>\n",
              "      <td>0.523287</td>\n",
              "    </tr>\n",
              "    <tr>\n",
              "      <th>Y house price of unit area</th>\n",
              "      <td>-0.028587</td>\n",
              "      <td>0.087491</td>\n",
              "      <td>-0.210567</td>\n",
              "      <td>-0.673613</td>\n",
              "      <td>0.571005</td>\n",
              "      <td>0.546307</td>\n",
              "      <td>0.523287</td>\n",
              "      <td>1.000000</td>\n",
              "    </tr>\n",
              "  </tbody>\n",
              "</table>\n",
              "</div>"
            ],
            "text/plain": [
              "                                              No  ...  Y house price of unit area\n",
              "No                                      1.000000  ...                   -0.028587\n",
              "X1 transaction date                    -0.048658  ...                    0.087491\n",
              "X2 house age                           -0.032808  ...                   -0.210567\n",
              "X3 distance to the nearest MRT station -0.013573  ...                   -0.673613\n",
              "X4 number of convenience stores        -0.012699  ...                    0.571005\n",
              "X5 latitude                            -0.010110  ...                    0.546307\n",
              "X6 longitude                           -0.011059  ...                    0.523287\n",
              "Y house price of unit area             -0.028587  ...                    1.000000\n",
              "\n",
              "[8 rows x 8 columns]"
            ]
          },
          "metadata": {
            "tags": []
          },
          "execution_count": 75
        }
      ]
    },
    {
      "cell_type": "markdown",
      "metadata": {
        "id": "8fsLkn8FEml2"
      },
      "source": [
        "# Уже для моей рабочей даты"
      ]
    },
    {
      "cell_type": "markdown",
      "metadata": {
        "id": "uc5MMKu_FJN0"
      },
      "source": [
        "https://habr.com/ru/post/206306/ -- идея отседова о corr()"
      ]
    },
    {
      "cell_type": "code",
      "metadata": {
        "colab": {
          "base_uri": "https://localhost:8080/",
          "height": 204
        },
        "id": "fjpA1-91Bhfz",
        "outputId": "1130753c-6a1e-4b7d-85e4-f2844eca24c2"
      },
      "source": [
        "dataset.corr()"
      ],
      "execution_count": 68,
      "outputs": [
        {
          "output_type": "execute_result",
          "data": {
            "text/html": [
              "<div>\n",
              "<style scoped>\n",
              "    .dataframe tbody tr th:only-of-type {\n",
              "        vertical-align: middle;\n",
              "    }\n",
              "\n",
              "    .dataframe tbody tr th {\n",
              "        vertical-align: top;\n",
              "    }\n",
              "\n",
              "    .dataframe thead th {\n",
              "        text-align: right;\n",
              "    }\n",
              "</style>\n",
              "<table border=\"1\" class=\"dataframe\">\n",
              "  <thead>\n",
              "    <tr style=\"text-align: right;\">\n",
              "      <th></th>\n",
              "      <th>Year</th>\n",
              "      <th>Selling_Price</th>\n",
              "      <th>Present_Price</th>\n",
              "      <th>Kms_Driven</th>\n",
              "      <th>Owner</th>\n",
              "    </tr>\n",
              "  </thead>\n",
              "  <tbody>\n",
              "    <tr>\n",
              "      <th>Year</th>\n",
              "      <td>1.000000</td>\n",
              "      <td>0.236141</td>\n",
              "      <td>-0.047584</td>\n",
              "      <td>-0.524342</td>\n",
              "      <td>-0.182104</td>\n",
              "    </tr>\n",
              "    <tr>\n",
              "      <th>Selling_Price</th>\n",
              "      <td>0.236141</td>\n",
              "      <td>1.000000</td>\n",
              "      <td>0.878983</td>\n",
              "      <td>0.029187</td>\n",
              "      <td>-0.088344</td>\n",
              "    </tr>\n",
              "    <tr>\n",
              "      <th>Present_Price</th>\n",
              "      <td>-0.047584</td>\n",
              "      <td>0.878983</td>\n",
              "      <td>1.000000</td>\n",
              "      <td>0.203647</td>\n",
              "      <td>0.008057</td>\n",
              "    </tr>\n",
              "    <tr>\n",
              "      <th>Kms_Driven</th>\n",
              "      <td>-0.524342</td>\n",
              "      <td>0.029187</td>\n",
              "      <td>0.203647</td>\n",
              "      <td>1.000000</td>\n",
              "      <td>0.089216</td>\n",
              "    </tr>\n",
              "    <tr>\n",
              "      <th>Owner</th>\n",
              "      <td>-0.182104</td>\n",
              "      <td>-0.088344</td>\n",
              "      <td>0.008057</td>\n",
              "      <td>0.089216</td>\n",
              "      <td>1.000000</td>\n",
              "    </tr>\n",
              "  </tbody>\n",
              "</table>\n",
              "</div>"
            ],
            "text/plain": [
              "                   Year  Selling_Price  Present_Price  Kms_Driven     Owner\n",
              "Year           1.000000       0.236141      -0.047584   -0.524342 -0.182104\n",
              "Selling_Price  0.236141       1.000000       0.878983    0.029187 -0.088344\n",
              "Present_Price -0.047584       0.878983       1.000000    0.203647  0.008057\n",
              "Kms_Driven    -0.524342       0.029187       0.203647    1.000000  0.089216\n",
              "Owner         -0.182104      -0.088344       0.008057    0.089216  1.000000"
            ]
          },
          "metadata": {
            "tags": []
          },
          "execution_count": 68
        }
      ]
    },
    {
      "cell_type": "markdown",
      "metadata": {
        "id": "rT0l-ZwwCSBH"
      },
      "source": [
        " Нужно среди столбцов выбрать потенциальные факторы, индикатор - Selling_Price"
      ]
    },
    {
      "cell_type": "markdown",
      "metadata": {
        "id": "CDP3z9HZDdwM"
      },
      "source": [
        "3) Удалить один из пар линейнозависимых признаков. Если их попраная корреляция очень большая (|r|>0.8, тоже порог можно поднять) - ничего не удаляем, как другие,как кроме Selling_Price и Present_Price ничто не имеет большую поправную корреляцию :)"
      ]
    },
    {
      "cell_type": "code",
      "metadata": {
        "colab": {
          "base_uri": "https://localhost:8080/"
        },
        "id": "aW8zXWpo5AzO",
        "outputId": "6f46f117-e894-4a04-984f-9b0d088585ff"
      },
      "source": [
        "print(dataset.describe())"
      ],
      "execution_count": 60,
      "outputs": [
        {
          "output_type": "stream",
          "text": [
            "              Year  Selling_Price  Present_Price     Kms_Driven       Owner\n",
            "count   301.000000     301.000000     301.000000     301.000000  301.000000\n",
            "mean   2013.627907       4.661296       7.628472   36947.205980    0.043189\n",
            "std       2.891554       5.082812       8.644115   38886.883882    0.247915\n",
            "min    2003.000000       0.100000       0.320000     500.000000    0.000000\n",
            "25%    2012.000000       0.900000       1.200000   15000.000000    0.000000\n",
            "50%    2014.000000       3.600000       6.400000   32000.000000    0.000000\n",
            "75%    2016.000000       6.000000       9.900000   48767.000000    0.000000\n",
            "max    2018.000000      35.000000      92.600000  500000.000000    3.000000\n"
          ],
          "name": "stdout"
        }
      ]
    },
    {
      "cell_type": "code",
      "metadata": {
        "colab": {
          "base_uri": "https://localhost:8080/"
        },
        "id": "TULJPRrZ8-Gt",
        "outputId": "5498210f-a19c-4068-bd2a-99e08dbf7f5b"
      },
      "source": [
        "dataset.isnull().sum()"
      ],
      "execution_count": 49,
      "outputs": [
        {
          "output_type": "execute_result",
          "data": {
            "text/plain": [
              "Year             0\n",
              "Selling_Price    0\n",
              "Present_Price    0\n",
              "Kms_Driven       0\n",
              "Owner            0\n",
              "dtype: int64"
            ]
          },
          "metadata": {
            "tags": []
          },
          "execution_count": 49
        }
      ]
    },
    {
      "cell_type": "code",
      "metadata": {
        "id": "zj8zmMQU9-P_",
        "colab": {
          "base_uri": "https://localhost:8080/"
        },
        "outputId": "0a58159e-7188-46c1-9dcb-bc5db5da7916"
      },
      "source": [
        "Y = np.array(dataset[\"Selling_Price\"])\n",
        "X1 = np.array(dataset[\"Year\"])\n",
        "X2 = np.array(dataset[\"Present_Price\"])\n",
        "X3 = np.array(dataset[\"Kms_Driven\"])\n",
        "X4 = np.array(dataset[\"Owner\"])\n",
        "\n",
        "r1 = np.corrcoef(X1, Y)\n",
        "print(\"r1 = \", r1[0][1])\n",
        "r2 = np.corrcoef(X2, Y)\n",
        "print(\"r2 = \", r2[0][1])\n",
        "r3 = np.corrcoef(X3, Y)\n",
        "print(\"r3 = \", r3[0][1])\n",
        "r4 = np.corrcoef(X4, Y)\n",
        "print(\"r4 = \", r4[0][1])\n",
        "\n"
      ],
      "execution_count": 62,
      "outputs": [
        {
          "output_type": "stream",
          "text": [
            "r1 =  0.23614098016042756\n",
            "r2 =  0.878982545161496\n",
            "r3 =  0.029187090674291354\n",
            "r4 =  -0.0883440990872019\n"
          ],
          "name": "stdout"
        }
      ]
    },
    {
      "cell_type": "markdown",
      "metadata": {
        "id": "r969HEORC4dq"
      },
      "source": [
        "Ничего не удаляем, как |r|<0.001 везде больше "
      ]
    },
    {
      "cell_type": "markdown",
      "metadata": {
        "id": "XFXgY8KlFF9u"
      },
      "source": [
        "http://statsoft.ru/home/textbook/modules/stmulreg.html"
      ]
    },
    {
      "cell_type": "markdown",
      "metadata": {
        "id": "Qy_1xoOGGtvH"
      },
      "source": [
        "https://www.machinelearningmastery.ru/simple-and-multiple-linear-regression-in-python-c928425168f9/"
      ]
    },
    {
      "cell_type": "code",
      "metadata": {
        "colab": {
          "base_uri": "https://localhost:8080/",
          "height": 520
        },
        "id": "ouU1SqwEGroJ",
        "outputId": "67b76309-551a-4182-e7a6-ea26020dad61"
      },
      "source": [
        "import statsmodels.api as sm # import statsmodels \n",
        "\n",
        "X = dataset[[\"Present_Price\", \"Kms_Driven\", \"Owner\"]] ## X usually means our input variables (or independent variables)\n",
        "y = dataset[\"Selling_Price\"] ## Y usually means our output/dependent variable\n",
        "X = sm.add_constant(X) ## let's add an intercept (beta_0) to our model\n",
        "\n",
        "# Note the difference in argument order\n",
        "model = sm.OLS(y, X).fit() ## sm.OLS(output, input)\n",
        "predictions = model.predict(X)\n",
        "\n",
        "# Print out the statistics\n",
        "model.summary()\n"
      ],
      "execution_count": 106,
      "outputs": [
        {
          "output_type": "execute_result",
          "data": {
            "text/html": [
              "<table class=\"simpletable\">\n",
              "<caption>OLS Regression Results</caption>\n",
              "<tr>\n",
              "  <th>Dep. Variable:</th>      <td>Selling_Price</td>  <th>  R-squared:         </th> <td>   0.803</td> \n",
              "</tr>\n",
              "<tr>\n",
              "  <th>Model:</th>                   <td>OLS</td>       <th>  Adj. R-squared:    </th> <td>   0.801</td> \n",
              "</tr>\n",
              "<tr>\n",
              "  <th>Method:</th>             <td>Least Squares</td>  <th>  F-statistic:       </th> <td>   402.9</td> \n",
              "</tr>\n",
              "<tr>\n",
              "  <th>Date:</th>             <td>Sun, 21 Mar 2021</td> <th>  Prob (F-statistic):</th> <td>2.50e-104</td>\n",
              "</tr>\n",
              "<tr>\n",
              "  <th>Time:</th>                 <td>23:46:59</td>     <th>  Log-Likelihood:    </th> <td> -671.67</td> \n",
              "</tr>\n",
              "<tr>\n",
              "  <th>No. Observations:</th>      <td>   301</td>      <th>  AIC:               </th> <td>   1351.</td> \n",
              "</tr>\n",
              "<tr>\n",
              "  <th>Df Residuals:</th>          <td>   297</td>      <th>  BIC:               </th> <td>   1366.</td> \n",
              "</tr>\n",
              "<tr>\n",
              "  <th>Df Model:</th>              <td>     3</td>      <th>                     </th>     <td> </td>    \n",
              "</tr>\n",
              "<tr>\n",
              "  <th>Covariance Type:</th>      <td>nonrobust</td>    <th>                     </th>     <td> </td>    \n",
              "</tr>\n",
              "</table>\n",
              "<table class=\"simpletable\">\n",
              "<tr>\n",
              "        <td></td>           <th>coef</th>     <th>std err</th>      <th>t</th>      <th>P>|t|</th>  <th>[0.025</th>    <th>0.975]</th>  \n",
              "</tr>\n",
              "<tr>\n",
              "  <th>const</th>         <td>    1.3711</td> <td>    0.203</td> <td>    6.751</td> <td> 0.000</td> <td>    0.971</td> <td>    1.771</td>\n",
              "</tr>\n",
              "<tr>\n",
              "  <th>Present_Price</th> <td>    0.5351</td> <td>    0.015</td> <td>   34.568</td> <td> 0.000</td> <td>    0.505</td> <td>    0.566</td>\n",
              "</tr>\n",
              "<tr>\n",
              "  <th>Kms_Driven</th>    <td>-1.945e-05</td> <td> 3.45e-06</td> <td>   -5.629</td> <td> 0.000</td> <td>-2.62e-05</td> <td>-1.26e-05</td>\n",
              "</tr>\n",
              "<tr>\n",
              "  <th>Owner</th>         <td>   -1.6894</td> <td>    0.530</td> <td>   -3.185</td> <td> 0.002</td> <td>   -2.733</td> <td>   -0.645</td>\n",
              "</tr>\n",
              "</table>\n",
              "<table class=\"simpletable\">\n",
              "<tr>\n",
              "  <th>Omnibus:</th>       <td>65.364</td> <th>  Durbin-Watson:     </th> <td>   1.676</td> \n",
              "</tr>\n",
              "<tr>\n",
              "  <th>Prob(Omnibus):</th> <td> 0.000</td> <th>  Jarque-Bera (JB):  </th> <td>1191.924</td> \n",
              "</tr>\n",
              "<tr>\n",
              "  <th>Skew:</th>          <td> 0.161</td> <th>  Prob(JB):          </th> <td>1.50e-259</td>\n",
              "</tr>\n",
              "<tr>\n",
              "  <th>Kurtosis:</th>      <td>12.743</td> <th>  Cond. No.          </th> <td>2.17e+05</td> \n",
              "</tr>\n",
              "</table><br/><br/>Warnings:<br/>[1] Standard Errors assume that the covariance matrix of the errors is correctly specified.<br/>[2] The condition number is large, 2.17e+05. This might indicate that there are<br/>strong multicollinearity or other numerical problems."
            ],
            "text/plain": [
              "<class 'statsmodels.iolib.summary.Summary'>\n",
              "\"\"\"\n",
              "                            OLS Regression Results                            \n",
              "==============================================================================\n",
              "Dep. Variable:          Selling_Price   R-squared:                       0.803\n",
              "Model:                            OLS   Adj. R-squared:                  0.801\n",
              "Method:                 Least Squares   F-statistic:                     402.9\n",
              "Date:                Sun, 21 Mar 2021   Prob (F-statistic):          2.50e-104\n",
              "Time:                        23:46:59   Log-Likelihood:                -671.67\n",
              "No. Observations:                 301   AIC:                             1351.\n",
              "Df Residuals:                     297   BIC:                             1366.\n",
              "Df Model:                           3                                         \n",
              "Covariance Type:            nonrobust                                         \n",
              "=================================================================================\n",
              "                    coef    std err          t      P>|t|      [0.025      0.975]\n",
              "---------------------------------------------------------------------------------\n",
              "const             1.3711      0.203      6.751      0.000       0.971       1.771\n",
              "Present_Price     0.5351      0.015     34.568      0.000       0.505       0.566\n",
              "Kms_Driven    -1.945e-05   3.45e-06     -5.629      0.000   -2.62e-05   -1.26e-05\n",
              "Owner            -1.6894      0.530     -3.185      0.002      -2.733      -0.645\n",
              "==============================================================================\n",
              "Omnibus:                       65.364   Durbin-Watson:                   1.676\n",
              "Prob(Omnibus):                  0.000   Jarque-Bera (JB):             1191.924\n",
              "Skew:                           0.161   Prob(JB):                    1.50e-259\n",
              "Kurtosis:                      12.743   Cond. No.                     2.17e+05\n",
              "==============================================================================\n",
              "\n",
              "Warnings:\n",
              "[1] Standard Errors assume that the covariance matrix of the errors is correctly specified.\n",
              "[2] The condition number is large, 2.17e+05. This might indicate that there are\n",
              "strong multicollinearity or other numerical problems.\n",
              "\"\"\""
            ]
          },
          "metadata": {
            "tags": []
          },
          "execution_count": 106
        }
      ]
    },
    {
      "cell_type": "markdown",
      "metadata": {
        "id": "q2IsyIE2KzvI"
      },
      "source": [
        "Во и теперь все соотвествует логике и здравому смыслу, большее влиянее имеет прошлая цена, которая была в прошлом у владельца автомобиля, логично же, как и логично, что чем больше расстояние пройдет машина(пробег, но самое главное, что сильную зависимость оно не показало, что значит, что тут не точна) и поменяет владельцев, то у нее цена машины будет снижаться, а корреляция показывает, что колличество смененных владельцев сильно негативно влияет на цену"
      ]
    },
    {
      "cell_type": "markdown",
      "metadata": {
        "id": "sETYPSJIMnM3"
      },
      "source": [
        "также можем заметить, что R^2 довольно большой, что для нас дополнительная надежда верить, что прогноз достоверный и я не накосячил)"
      ]
    },
    {
      "cell_type": "code",
      "metadata": {
        "colab": {
          "base_uri": "https://localhost:8080/",
          "height": 297
        },
        "id": "SyOYbMnQu5CV",
        "outputId": "b500f13b-83a1-4d76-da90-731ee274a1c6"
      },
      "source": [
        "import seaborn as sns\n",
        "import pandas as pd\n",
        "import numpy as np\n",
        "import matplotlib\n",
        "sns.scatterplot(x='Present_Price',y='Selling_Price',data=dataset)"
      ],
      "execution_count": 64,
      "outputs": [
        {
          "output_type": "execute_result",
          "data": {
            "text/plain": [
              "<matplotlib.axes._subplots.AxesSubplot at 0x7fe04262f750>"
            ]
          },
          "metadata": {
            "tags": []
          },
          "execution_count": 64
        },
        {
          "output_type": "display_data",
          "data": {
            "image/png": "[encoded data removed]",
            "text/plain": [
              "<Figure size 432x288 with 1 Axes>"
            ]
          },
          "metadata": {
            "tags": [],
            "needs_background": "light"
          }
        }
      ]
    },
    {
      "cell_type": "code",
      "metadata": {
        "colab": {
          "base_uri": "https://localhost:8080/",
          "height": 296
        },
        "id": "5hWk5cCnHzTg",
        "outputId": "99fe62ec-9837-4d47-dc1a-db3dfeb23fce"
      },
      "source": [
        "import seaborn as sns\n",
        "import pandas as pd\n",
        "import numpy as np\n",
        "import matplotlib\n",
        "sns.scatterplot(x='Owner',y='Selling_Price',data=dataset)"
      ],
      "execution_count": 91,
      "outputs": [
        {
          "output_type": "execute_result",
          "data": {
            "text/plain": [
              "<matplotlib.axes._subplots.AxesSubplot at 0x7fe02a29f610>"
            ]
          },
          "metadata": {
            "tags": []
          },
          "execution_count": 91
        },
        {
          "output_type": "display_data",
          "data": {
            "image/png": "[encoded data removed]",
            "text/plain": [
              "<Figure size 432x288 with 1 Axes>"
            ]
          },
          "metadata": {
            "tags": [],
            "needs_background": "light"
          }
        }
      ]
    },
    {
      "cell_type": "code",
      "metadata": {
        "colab": {
          "base_uri": "https://localhost:8080/",
          "height": 297
        },
        "id": "64aij4qKMRfQ",
        "outputId": "78eb7780-fb94-44c6-f42b-b3ea8e5ef090"
      },
      "source": [
        "import seaborn as sns\n",
        "import pandas as pd\n",
        "import numpy as np\n",
        "import matplotlib\n",
        "sns.scatterplot(x='Kms_Driven',y='Selling_Price',data=dataset)"
      ],
      "execution_count": 107,
      "outputs": [
        {
          "output_type": "execute_result",
          "data": {
            "text/plain": [
              "<matplotlib.axes._subplots.AxesSubplot at 0x7fe02a118ed0>"
            ]
          },
          "metadata": {
            "tags": []
          },
          "execution_count": 107
        },
        {
          "output_type": "display_data",
          "data": {
            "image/png": "[encoded data removed]",
            "text/plain": [
              "<Figure size 432x288 with 1 Axes>"
            ]
          },
          "metadata": {
            "tags": [],
            "needs_background": "light"
          }
        }
      ]
    },
    {
      "cell_type": "markdown",
      "metadata": {
        "id": "s7cS2he-M7Ur"
      },
      "source": [
        "# пробуем с sklearn"
      ]
    },
    {
      "cell_type": "code",
      "metadata": {
        "id": "YXIZmQEANCzr"
      },
      "source": [
        "from pandas import read_csv, DataFrame\n",
        "from sklearn.neighbors import KNeighborsRegressor\n",
        "from sklearn.linear_model import LinearRegression, LogisticRegression\n",
        "from sklearn.svm import SVR\n",
        "from sklearn.ensemble import RandomForestRegressor\n",
        "from sklearn.metrics import r2_score"
      ],
      "execution_count": 139,
      "outputs": []
    },
    {
      "cell_type": "code",
      "metadata": {
        "colab": {
          "base_uri": "https://localhost:8080/",
          "height": 204
        },
        "id": "G6rSS--ONN2D",
        "outputId": "3be45fcb-c423-409d-c257-b16eef597560"
      },
      "source": [
        "dataset_X = dataset.drop(['Car_Name',\t'Year',\"Selling_Price\", 'Fuel_Type'\t,'Seller_Type',\t'Transmission'\t], axis=1)\n",
        "dataset_X .head()"
      ],
      "execution_count": 129,
      "outputs": [
        {
          "output_type": "execute_result",
          "data": {
            "text/html": [
              "<div>\n",
              "<style scoped>\n",
              "    .dataframe tbody tr th:only-of-type {\n",
              "        vertical-align: middle;\n",
              "    }\n",
              "\n",
              "    .dataframe tbody tr th {\n",
              "        vertical-align: top;\n",
              "    }\n",
              "\n",
              "    .dataframe thead th {\n",
              "        text-align: right;\n",
              "    }\n",
              "</style>\n",
              "<table border=\"1\" class=\"dataframe\">\n",
              "  <thead>\n",
              "    <tr style=\"text-align: right;\">\n",
              "      <th></th>\n",
              "      <th>Present_Price</th>\n",
              "      <th>Kms_Driven</th>\n",
              "      <th>Owner</th>\n",
              "    </tr>\n",
              "  </thead>\n",
              "  <tbody>\n",
              "    <tr>\n",
              "      <th>0</th>\n",
              "      <td>5.59</td>\n",
              "      <td>27000</td>\n",
              "      <td>0</td>\n",
              "    </tr>\n",
              "    <tr>\n",
              "      <th>1</th>\n",
              "      <td>9.54</td>\n",
              "      <td>43000</td>\n",
              "      <td>0</td>\n",
              "    </tr>\n",
              "    <tr>\n",
              "      <th>2</th>\n",
              "      <td>9.85</td>\n",
              "      <td>6900</td>\n",
              "      <td>0</td>\n",
              "    </tr>\n",
              "    <tr>\n",
              "      <th>3</th>\n",
              "      <td>4.15</td>\n",
              "      <td>5200</td>\n",
              "      <td>0</td>\n",
              "    </tr>\n",
              "    <tr>\n",
              "      <th>4</th>\n",
              "      <td>6.87</td>\n",
              "      <td>42450</td>\n",
              "      <td>0</td>\n",
              "    </tr>\n",
              "  </tbody>\n",
              "</table>\n",
              "</div>"
            ],
            "text/plain": [
              "   Present_Price  Kms_Driven  Owner\n",
              "0           5.59       27000      0\n",
              "1           9.54       43000      0\n",
              "2           9.85        6900      0\n",
              "3           4.15        5200      0\n",
              "4           6.87       42450      0"
            ]
          },
          "metadata": {
            "tags": []
          },
          "execution_count": 129
        }
      ]
    },
    {
      "cell_type": "code",
      "metadata": {
        "colab": {
          "base_uri": "https://localhost:8080/"
        },
        "id": "DOLboZ07NkzJ",
        "outputId": "e65538a7-6b7c-424e-ba9d-87a7280ddd0c"
      },
      "source": [
        "dataset_Y = dataset[\"Selling_Price\"]\n",
        "dataset_Y .head()"
      ],
      "execution_count": 133,
      "outputs": [
        {
          "output_type": "execute_result",
          "data": {
            "text/plain": [
              "0    3.35\n",
              "1    4.75\n",
              "2    7.25\n",
              "3    2.85\n",
              "4    4.60\n",
              "Name: Selling_Price, dtype: float64"
            ]
          },
          "metadata": {
            "tags": []
          },
          "execution_count": 133
        }
      ]
    },
    {
      "cell_type": "code",
      "metadata": {
        "id": "JeoIUgD0O12r"
      },
      "source": [
        "model = LinearRegression().fit(dataset_X, dataset_Y)"
      ],
      "execution_count": 156,
      "outputs": []
    },
    {
      "cell_type": "code",
      "metadata": {
        "colab": {
          "base_uri": "https://localhost:8080/"
        },
        "id": "MYKogIBJO--8",
        "outputId": "89ed7e4a-d74b-4e48-c461-26710b41f8cc"
      },
      "source": [
        "print('coefficient of determination:', model.score(dataset_X, dataset_Y))\n",
        "print('intercept:', model.intercept_)\n",
        "print('slope:', model.coef_)"
      ],
      "execution_count": 161,
      "outputs": [
        {
          "output_type": "stream",
          "text": [
            "coefficient of determination: 0.8027614536043668\n",
            "intercept: 1.3710627496807182\n",
            "slope: [ 5.35053857e-01 -1.94451566e-05 -1.68944584e+00]\n"
          ],
          "name": "stdout"
        }
      ]
    },
    {
      "cell_type": "markdown",
      "metadata": {
        "id": "1Cqp4EGrR0BO"
      },
      "source": [
        "ну собственно тоже самое, только под другой начинкой, Slope это ттеже самые коэффиценты корреляции по каждому из признаков, которые были в dataset_X"
      ]
    }
  ]
}